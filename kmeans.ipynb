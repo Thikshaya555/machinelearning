{
 "cells": [
  {
   "cell_type": "code",
   "execution_count": 1,
   "metadata": {},
   "outputs": [],
   "source": [
    "import numpy as np\n",
    "import pandas as pd\n",
    "import matplotlib.pyplot as plt"
   ]
  },
  {
   "cell_type": "code",
   "execution_count": 2,
   "metadata": {},
   "outputs": [],
   "source": [
    "df=pd.read_csv('7e37f8b4-b8c3-4964-bbf3-33fa5e52257a.csv')"
   ]
  },
  {
   "cell_type": "code",
   "execution_count": 3,
   "metadata": {},
   "outputs": [
    {
     "name": "stdout",
     "output_type": "stream",
     "text": [
      "     CustomerID   Genre  Age  Annual Income (k$)  Spending Score (1-100)\n",
      "0             1    Male   19                  15                      39\n",
      "1             2    Male   21                  15                      81\n",
      "2             3  Female   20                  16                       6\n",
      "3             4  Female   23                  16                      77\n",
      "4             5  Female   31                  17                      40\n",
      "..          ...     ...  ...                 ...                     ...\n",
      "195         196  Female   35                 120                      79\n",
      "196         197  Female   45                 126                      28\n",
      "197         198    Male   32                 126                      74\n",
      "198         199    Male   32                 137                      18\n",
      "199         200    Male   30                 137                      83\n",
      "\n",
      "[200 rows x 5 columns]\n"
     ]
    }
   ],
   "source": [
    "print(df)"
   ]
  },
  {
   "cell_type": "markdown",
   "metadata": {},
   "source": [
    "### taking age and spending score for calculation ###"
   ]
  },
  {
   "cell_type": "code",
   "execution_count": 24,
   "metadata": {},
   "outputs": [
    {
     "name": "stdout",
     "output_type": "stream",
     "text": [
      "[[19 39]\n",
      " [21 81]\n",
      " [20  6]\n",
      " [23 77]\n",
      " [31 40]\n",
      " [22 76]\n",
      " [35  6]\n",
      " [23 94]\n",
      " [64  3]\n",
      " [30 72]\n",
      " [67 14]\n",
      " [35 99]\n",
      " [58 15]\n",
      " [24 77]\n",
      " [37 13]\n",
      " [22 79]\n",
      " [35 35]\n",
      " [20 66]\n",
      " [52 29]\n",
      " [35 98]\n",
      " [35 35]\n",
      " [25 73]\n",
      " [46  5]\n",
      " [31 73]\n",
      " [54 14]\n",
      " [29 82]\n",
      " [45 32]\n",
      " [35 61]\n",
      " [40 31]\n",
      " [23 87]\n",
      " [60  4]\n",
      " [21 73]\n",
      " [53  4]\n",
      " [18 92]\n",
      " [49 14]\n",
      " [21 81]\n",
      " [42 17]\n",
      " [30 73]\n",
      " [36 26]\n",
      " [20 75]\n",
      " [65 35]\n",
      " [24 92]\n",
      " [48 36]\n",
      " [31 61]\n",
      " [49 28]\n",
      " [24 65]\n",
      " [50 55]\n",
      " [27 47]\n",
      " [29 42]\n",
      " [31 42]\n",
      " [49 52]\n",
      " [33 60]\n",
      " [31 54]\n",
      " [59 60]\n",
      " [50 45]\n",
      " [47 41]\n",
      " [51 50]\n",
      " [69 46]\n",
      " [27 51]\n",
      " [53 46]\n",
      " [70 56]\n",
      " [19 55]\n",
      " [67 52]\n",
      " [54 59]\n",
      " [63 51]\n",
      " [18 59]\n",
      " [43 50]\n",
      " [68 48]\n",
      " [19 59]\n",
      " [32 47]\n",
      " [70 55]\n",
      " [47 42]\n",
      " [60 49]\n",
      " [60 56]\n",
      " [59 47]\n",
      " [26 54]\n",
      " [45 53]\n",
      " [40 48]\n",
      " [23 52]\n",
      " [49 42]\n",
      " [57 51]\n",
      " [38 55]\n",
      " [67 41]\n",
      " [46 44]\n",
      " [21 57]\n",
      " [48 46]\n",
      " [55 58]\n",
      " [22 55]\n",
      " [34 60]\n",
      " [50 46]\n",
      " [68 55]\n",
      " [18 41]\n",
      " [48 49]\n",
      " [40 40]\n",
      " [32 42]\n",
      " [24 52]\n",
      " [47 47]\n",
      " [27 50]\n",
      " [48 42]\n",
      " [20 49]\n",
      " [23 41]\n",
      " [49 48]\n",
      " [67 59]\n",
      " [26 55]\n",
      " [49 56]\n",
      " [21 42]\n",
      " [66 50]\n",
      " [54 46]\n",
      " [68 43]\n",
      " [66 48]\n",
      " [65 52]\n",
      " [19 54]\n",
      " [38 42]\n",
      " [19 46]\n",
      " [18 48]\n",
      " [19 50]\n",
      " [63 43]\n",
      " [49 59]\n",
      " [51 43]\n",
      " [50 57]\n",
      " [27 56]\n",
      " [38 40]\n",
      " [40 58]\n",
      " [39 91]\n",
      " [23 29]\n",
      " [31 77]\n",
      " [43 35]\n",
      " [40 95]\n",
      " [59 11]\n",
      " [38 75]\n",
      " [47  9]\n",
      " [39 75]\n",
      " [25 34]\n",
      " [31 71]\n",
      " [20  5]\n",
      " [29 88]\n",
      " [44  7]\n",
      " [32 73]\n",
      " [19 10]\n",
      " [35 72]\n",
      " [57  5]\n",
      " [32 93]\n",
      " [28 40]\n",
      " [32 87]\n",
      " [25 12]\n",
      " [28 97]\n",
      " [48 36]\n",
      " [32 74]\n",
      " [34 22]\n",
      " [34 90]\n",
      " [43 17]\n",
      " [39 88]\n",
      " [44 20]\n",
      " [38 76]\n",
      " [47 16]\n",
      " [27 89]\n",
      " [37  1]\n",
      " [30 78]\n",
      " [34  1]\n",
      " [30 73]\n",
      " [56 35]\n",
      " [29 83]\n",
      " [19  5]\n",
      " [31 93]\n",
      " [50 26]\n",
      " [36 75]\n",
      " [42 20]\n",
      " [33 95]\n",
      " [36 27]\n",
      " [32 63]\n",
      " [40 13]\n",
      " [28 75]\n",
      " [36 10]\n",
      " [36 92]\n",
      " [52 13]\n",
      " [30 86]\n",
      " [58 15]\n",
      " [27 69]\n",
      " [59 14]\n",
      " [35 90]\n",
      " [37 32]\n",
      " [32 86]\n",
      " [46 15]\n",
      " [29 88]\n",
      " [41 39]\n",
      " [30 97]\n",
      " [54 24]\n",
      " [28 68]\n",
      " [41 17]\n",
      " [36 85]\n",
      " [34 23]\n",
      " [32 69]\n",
      " [33  8]\n",
      " [38 91]\n",
      " [47 16]\n",
      " [35 79]\n",
      " [45 28]\n",
      " [32 74]\n",
      " [32 18]\n",
      " [30 83]]\n"
     ]
    }
   ],
   "source": [
    "x=df.iloc[:,[2,4]].values\n",
    "print(x)"
   ]
  },
  {
   "cell_type": "code",
   "execution_count": 25,
   "metadata": {},
   "outputs": [
    {
     "name": "stdout",
     "output_type": "stream",
     "text": [
      "[171535.50000000003, 75949.15601023012, 45840.67661610871, 28165.583566629342, 23810.462233071372, 19526.670261317624, 15523.684014328754, 13070.88815628816, 11599.50627848304, 10190.345243443207]\n"
     ]
    },
    {
     "data": {
      "image/png": "[encoded data removed]",
      "text/plain": [
       "<Figure size 432x288 with 1 Axes>"
      ]
     },
     "metadata": {
      "needs_background": "light"
     },
     "output_type": "display_data"
    }
   ],
   "source": [
    "from sklearn.cluster import KMeans\n",
    "wcss=[]\n",
    "for i in range(1,11):\n",
    "    kmeans=KMeans(n_clusters=i,init='k-means++',random_state=42)\n",
    "    kmeans.fit(x)\n",
    "    \n",
    "    wcss.append(kmeans.inertia_)\n",
    "print(wcss)\n",
    "x_range=range(1,11)\n",
    "plt.scatter(x_range,wcss,color='red')\n",
    "plt.plot(x_range,wcss,color='blue')\n",
    "plt.show()"
   ]
  },
  {
   "cell_type": "code",
   "execution_count": 26,
   "metadata": {},
   "outputs": [
    {
     "data": {
      "text/plain": [
       "KMeans(n_clusters=4, random_state=42)"
      ]
     },
     "execution_count": 26,
     "metadata": {},
     "output_type": "execute_result"
    }
   ],
   "source": [
    "kmeans=KMeans(n_clusters=4,init='k-means++',random_state=42)\n",
    "kmeans.fit(x)"
   ]
  },
  {
   "cell_type": "code",
   "execution_count": 27,
   "metadata": {},
   "outputs": [
    {
     "name": "stdout",
     "output_type": "stream",
     "text": [
      "[2 1 0 1 2 1 0 1 0 1 0 1 0 1 0 1 2 2 0 1 2 1 0 1 0 1 0 2 0 1 0 1 0 1 0 1 0\n",
      " 1 0 1 3 1 3 2 0 2 3 2 2 2 3 2 2 3 3 3 3 3 2 3 3 2 3 3 3 2 3 3 2 2 3 3 3 3\n",
      " 3 2 3 2 2 3 3 2 3 3 2 3 3 2 2 3 3 2 3 2 2 2 3 2 3 2 2 3 3 2 3 2 3 3 3 3 3\n",
      " 2 2 2 2 2 3 3 3 3 2 2 2 1 2 1 3 1 0 1 0 1 2 1 0 1 0 1 0 1 0 1 2 1 0 1 3 1\n",
      " 0 1 0 1 0 1 0 1 0 1 0 1 3 1 0 1 0 1 0 1 0 2 0 1 0 1 0 1 0 1 0 1 0 1 0 1 2\n",
      " 1 0 1 0 1 0 1 0 1 0 1 0 1 0 1]\n"
     ]
    }
   ],
   "source": [
    "ymeans=kmeans.predict(x)\n",
    "print(ymeans)"
   ]
  },
  {
   "cell_type": "code",
   "execution_count": 28,
   "metadata": {},
   "outputs": [
    {
     "data": {
      "image/png": "[encoded data removed]",
      "text/plain": [
       "<Figure size 432x288 with 1 Axes>"
      ]
     },
     "metadata": {
      "needs_background": "light"
     },
     "output_type": "display_data"
    }
   ],
   "source": [
    "plt.scatter(x[ymeans==0,0],x[ymeans==0,1],s=100,color='red',label='cluster1')\n",
    "plt.scatter(x[ymeans==1,0],x[ymeans==1,1],s=100,color='blue',label='cluster2')\n",
    "plt.scatter(x[ymeans==2,0],x[ymeans==2,1],s=100,color='orange',label='cluster3')\n",
    "plt.scatter(x[ymeans==3,0],x[ymeans==3,1],s=100,color='green',label='cluster4')\n",
    "plt.scatter(x[ymeans==4,0],x[ymeans==4,1],s=100,color='magenta',label='cluster5')\n",
    "plt.scatter(kmeans.cluster_centers_[:,0],kmeans.cluster_centers_[:,1],s=300,color=\"yellow\",label='centroid')\n",
    "plt.xlabel(\"age\")\n",
    "plt.ylabel(\"spending score\")\n",
    "plt.legend()\n",
    "plt.show()"
   ]
  },
  {
   "cell_type": "code",
   "execution_count": null,
   "metadata": {},
   "outputs": [],
   "source": []
  }
 ],
 "metadata": {
  "kernelspec": {
   "display_name": "Python 3",
   "language": "python",
   "name": "python3"
  },
  "language_info": {
   "codemirror_mode": {
    "name": "ipython",
    "version": 3
   },
   "file_extension": ".py",
   "mimetype": "text/x-python",
   "name": "python",
   "nbconvert_exporter": "python",
   "pygments_lexer": "ipython3",
   "version": "3.6.9"
  }
 },
 "nbformat": 4,
 "nbformat_minor": 4
}
