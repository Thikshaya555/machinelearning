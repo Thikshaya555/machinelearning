{
 "cells": [
  {
   "cell_type": "code",
   "execution_count": 1,
   "metadata": {},
   "outputs": [],
   "source": [
    "import numpy as np\n",
    "import pandas as pd\n",
    "import matplotlib.pyplot as plt"
   ]
  },
  {
   "cell_type": "code",
   "execution_count": 6,
   "metadata": {},
   "outputs": [
    {
     "name": "stdout",
     "output_type": "stream",
     "text": [
      "     Alcohol  Malic_Acid   Ash  Ash_Alcanity  Magnesium  Total_Phenols  \\\n",
      "0      14.23        1.71  2.43          15.6        127           2.80   \n",
      "1      13.20        1.78  2.14          11.2        100           2.65   \n",
      "2      13.16        2.36  2.67          18.6        101           2.80   \n",
      "3      14.37        1.95  2.50          16.8        113           3.85   \n",
      "4      13.24        2.59  2.87          21.0        118           2.80   \n",
      "..       ...         ...   ...           ...        ...            ...   \n",
      "173    13.71        5.65  2.45          20.5         95           1.68   \n",
      "174    13.40        3.91  2.48          23.0        102           1.80   \n",
      "175    13.27        4.28  2.26          20.0        120           1.59   \n",
      "176    13.17        2.59  2.37          20.0        120           1.65   \n",
      "177    14.13        4.10  2.74          24.5         96           2.05   \n",
      "\n",
      "     Flavanoids  Nonflavanoid_Phenols  Proanthocyanins  Color_Intensity   Hue  \\\n",
      "0          3.06                  0.28             2.29             5.64  1.04   \n",
      "1          2.76                  0.26             1.28             4.38  1.05   \n",
      "2          3.24                  0.30             2.81             5.68  1.03   \n",
      "3          3.49                  0.24             2.18             7.80  0.86   \n",
      "4          2.69                  0.39             1.82             4.32  1.04   \n",
      "..          ...                   ...              ...              ...   ...   \n",
      "173        0.61                  0.52             1.06             7.70  0.64   \n",
      "174        0.75                  0.43             1.41             7.30  0.70   \n",
      "175        0.69                  0.43             1.35            10.20  0.59   \n",
      "176        0.68                  0.53             1.46             9.30  0.60   \n",
      "177        0.76                  0.56             1.35             9.20  0.61   \n",
      "\n",
      "     OD280  Proline  Customer_Segment  \n",
      "0     3.92     1065                 1  \n",
      "1     3.40     1050                 1  \n",
      "2     3.17     1185                 1  \n",
      "3     3.45     1480                 1  \n",
      "4     2.93      735                 1  \n",
      "..     ...      ...               ...  \n",
      "173   1.74      740                 3  \n",
      "174   1.56      750                 3  \n",
      "175   1.56      835                 3  \n",
      "176   1.62      840                 3  \n",
      "177   1.60      560                 3  \n",
      "\n",
      "[178 rows x 14 columns]\n"
     ]
    }
   ],
   "source": [
    "df=pd.read_csv('4ec47333-8625-4b88-b858-2029f32e018e.csv')\n",
    "print(df)"
   ]
  },
  {
   "cell_type": "code",
   "execution_count": 12,
   "metadata": {},
   "outputs": [
    {
     "name": "stdout",
     "output_type": "stream",
     "text": [
      "[[1.423e+01 1.710e+00 2.430e+00 ... 1.040e+00 3.920e+00 1.065e+03]\n",
      " [1.320e+01 1.780e+00 2.140e+00 ... 1.050e+00 3.400e+00 1.050e+03]\n",
      " [1.316e+01 2.360e+00 2.670e+00 ... 1.030e+00 3.170e+00 1.185e+03]\n",
      " ...\n",
      " [1.327e+01 4.280e+00 2.260e+00 ... 5.900e-01 1.560e+00 8.350e+02]\n",
      " [1.317e+01 2.590e+00 2.370e+00 ... 6.000e-01 1.620e+00 8.400e+02]\n",
      " [1.413e+01 4.100e+00 2.740e+00 ... 6.100e-01 1.600e+00 5.600e+02]]\n",
      "[1 1 1 1 1 1 1 1 1 1 1 1 1 1 1 1 1 1 1 1 1 1 1 1 1 1 1 1 1 1 1 1 1 1 1 1 1\n",
      " 1 1 1 1 1 1 1 1 1 1 1 1 1 1 1 1 1 1 1 1 1 1 2 2 2 2 2 2 2 2 2 2 2 2 2 2 2\n",
      " 2 2 2 2 2 2 2 2 2 2 2 2 2 2 2 2 2 2 2 2 2 2 2 2 2 2 2 2 2 2 2 2 2 2 2 2 2\n",
      " 2 2 2 2 2 2 2 2 2 2 2 2 2 2 2 2 2 2 2 3 3 3 3 3 3 3 3 3 3 3 3 3 3 3 3 3 3\n",
      " 3 3 3 3 3 3 3 3 3 3 3 3 3 3 3 3 3 3 3 3 3 3 3 3 3 3 3 3 3 3]\n"
     ]
    }
   ],
   "source": [
    "x=df.iloc[:,:-1].values\n",
    "y=df.iloc[:,-1].values\n",
    "print(x)\n",
    "print(y)"
   ]
  },
  {
   "cell_type": "code",
   "execution_count": 20,
   "metadata": {},
   "outputs": [
    {
     "name": "stdout",
     "output_type": "stream",
     "text": [
      "[[ 1.51861254 -0.5622498   0.23205254 ...  0.36217728  1.84791957\n",
      "   1.01300893]\n",
      " [ 0.24628963 -0.49941338 -0.82799632 ...  0.40605066  1.1134493\n",
      "   0.96524152]\n",
      " [ 0.19687903  0.02123125  1.10933436 ...  0.31830389  0.78858745\n",
      "   1.39514818]\n",
      " ...\n",
      " [ 0.33275817  1.74474449 -0.38935541 ... -1.61212515 -1.48544548\n",
      "   0.28057537]\n",
      " [ 0.20923168  0.22769377  0.01273209 ... -1.56825176 -1.40069891\n",
      "   0.29649784]\n",
      " [ 1.39508604  1.58316512  1.36520822 ... -1.52437837 -1.42894777\n",
      "  -0.59516041]]\n"
     ]
    }
   ],
   "source": [
    "from sklearn.preprocessing import StandardScaler\n",
    "sc=StandardScaler()\n",
    "x=sc.fit_transform(x)\n",
    "print(x)"
   ]
  },
  {
   "cell_type": "code",
   "execution_count": 27,
   "metadata": {},
   "outputs": [
    {
     "name": "stdout",
     "output_type": "stream",
     "text": [
      "[0.36198848 0.1920749 ]\n"
     ]
    }
   ],
   "source": [
    "from sklearn.decomposition import PCA\n",
    "pc=PCA(n_components=2)\n",
    "x=pc.fit_transform(x)\n",
    "var=pc.explained_variance_ratio_\n",
    "print(var)"
   ]
  },
  {
   "cell_type": "code",
   "execution_count": 28,
   "metadata": {},
   "outputs": [
    {
     "name": "stdout",
     "output_type": "stream",
     "text": [
      "[[ 3.31675081 -1.44346263]\n",
      " [ 2.20946492  0.33339289]\n",
      " [ 2.51674015 -1.0311513 ]\n",
      " [ 3.75706561 -2.75637191]\n",
      " [ 1.00890849 -0.86983082]\n",
      " [ 3.05025392 -2.12240111]\n",
      " [ 2.44908967 -1.17485013]\n",
      " [ 2.05943687 -1.60896307]\n",
      " [ 2.5108743  -0.91807096]\n",
      " [ 2.75362819 -0.78943767]\n",
      " [ 3.47973668 -1.30233324]\n",
      " [ 1.7547529  -0.61197723]\n",
      " [ 2.11346234 -0.67570634]\n",
      " [ 3.45815682 -1.13062988]\n",
      " [ 4.31278391 -2.09597558]\n",
      " [ 2.3051882  -1.66255173]\n",
      " [ 2.17195527 -2.32730534]\n",
      " [ 1.89897118 -1.63136888]\n",
      " [ 3.54198508 -2.51834367]\n",
      " [ 2.0845222  -1.06113799]\n",
      " [ 3.12440254 -0.78689711]\n",
      " [ 1.08657007 -0.24174355]\n",
      " [ 2.53522408  0.09184062]\n",
      " [ 1.64498834  0.51627893]\n",
      " [ 1.76157587  0.31714893]\n",
      " [ 0.9900791  -0.94066734]\n",
      " [ 1.77527763 -0.68617513]\n",
      " [ 1.23542396  0.08980704]\n",
      " [ 2.18840633 -0.68956962]\n",
      " [ 2.25610898 -0.19146194]\n",
      " [ 2.50022003 -1.24083383]\n",
      " [ 2.67741105 -1.47187365]\n",
      " [ 1.62857912 -0.05270445]\n",
      " [ 1.90269086 -1.63306043]\n",
      " [ 1.41038853 -0.69793432]\n",
      " [ 1.90382623 -0.17671095]\n",
      " [ 1.38486223 -0.65863985]\n",
      " [ 1.12220741 -0.11410976]\n",
      " [ 1.5021945   0.76943201]\n",
      " [ 2.52980109 -1.80300198]\n",
      " [ 2.58809543 -0.7796163 ]\n",
      " [ 0.66848199 -0.16996094]\n",
      " [ 3.07080699 -1.15591896]\n",
      " [ 0.46220914 -0.33074213]\n",
      " [ 2.10135193  0.07100892]\n",
      " [ 1.13616618 -1.77710739]\n",
      " [ 2.72660096 -1.19133469]\n",
      " [ 2.82133927 -0.6462586 ]\n",
      " [ 2.00985085 -1.24702946]\n",
      " [ 2.7074913  -1.75196741]\n",
      " [ 3.21491747 -0.16699199]\n",
      " [ 2.85895983 -0.7452788 ]\n",
      " [ 3.50560436 -1.61273386]\n",
      " [ 2.22479138 -1.875168  ]\n",
      " [ 2.14698782 -1.01675154]\n",
      " [ 2.46932948 -1.32900831]\n",
      " [ 2.74151791 -1.43654878]\n",
      " [ 2.17374092 -1.21219984]\n",
      " [ 3.13938015 -1.73157912]\n",
      " [-0.92858197  3.07348616]\n",
      " [-1.54248014  1.38144351]\n",
      " [-1.83624976  0.82998412]\n",
      " [ 0.03060683  1.26278614]\n",
      " [ 2.05026161  1.9250326 ]\n",
      " [-0.60968083  1.90805881]\n",
      " [ 0.90022784  0.76391147]\n",
      " [ 2.24850719  1.88459248]\n",
      " [ 0.18338403  2.42714611]\n",
      " [-0.81280503  0.22051399]\n",
      " [ 1.9756205   1.40328323]\n",
      " [-1.57221622  0.88498314]\n",
      " [ 1.65768181  0.9567122 ]\n",
      " [-0.72537239  1.0636454 ]\n",
      " [ 2.56222717 -0.26019855]\n",
      " [ 1.83256757  1.2878782 ]\n",
      " [-0.8679929   2.44410119]\n",
      " [ 0.3700144   2.15390698]\n",
      " [-1.45737704  1.38335177]\n",
      " [ 1.26293085  0.77084953]\n",
      " [ 0.37615037  1.0270434 ]\n",
      " [ 0.7620639   3.37505381]\n",
      " [ 1.03457797  1.45070974]\n",
      " [-0.49487676  2.38124353]\n",
      " [-2.53897708  0.08744336]\n",
      " [ 0.83532015  1.47367055]\n",
      " [ 0.78790461  2.02662652]\n",
      " [-0.80683216  2.23383039]\n",
      " [-0.55804262  2.37298543]\n",
      " [-1.11511104  1.80224719]\n",
      " [-0.55572283  2.65754004]\n",
      " [-1.34928528  2.11800147]\n",
      " [-1.56448261  1.85221452]\n",
      " [-1.93255561  1.55949546]\n",
      " [ 0.74666594  2.31293171]\n",
      " [ 0.95745536  2.22352843]\n",
      " [ 2.54386518 -0.16927402]\n",
      " [-0.54395259  0.36892655]\n",
      " [ 1.03104975  2.56556935]\n",
      " [ 2.25190942  1.43274138]\n",
      " [ 1.41021602  2.16619177]\n",
      " [ 0.79771979  2.3769488 ]\n",
      " [-0.54953173  2.29312864]\n",
      " [-0.16117374  1.16448332]\n",
      " [-0.65979494  2.67996119]\n",
      " [ 0.39235441  2.09873171]\n",
      " [-1.77249908  1.71728847]\n",
      " [-0.36626736  2.1693533 ]\n",
      " [-1.62067257  1.35558339]\n",
      " [ 0.08253578  2.30623459]\n",
      " [ 1.57827507  1.46203429]\n",
      " [ 1.42056925  1.41820664]\n",
      " [-0.27870275  1.93056809]\n",
      " [-1.30314497  0.76317231]\n",
      " [-0.45707187  2.26941561]\n",
      " [-0.49418585  1.93904505]\n",
      " [ 0.48207441  3.87178385]\n",
      " [-0.25288888  2.82149237]\n",
      " [-0.10722764  1.92892204]\n",
      " [-2.4330126   1.25714104]\n",
      " [-0.55108954  2.22216155]\n",
      " [ 0.73962193  1.40895667]\n",
      " [ 1.33632173 -0.25333693]\n",
      " [-1.177087    0.66396684]\n",
      " [-0.46233501  0.61828818]\n",
      " [ 0.97847408  1.4455705 ]\n",
      " [-0.09680973  2.10999799]\n",
      " [ 0.03848715  1.26676211]\n",
      " [-1.5971585   1.20814357]\n",
      " [-0.47956492  1.93884066]\n",
      " [-1.79283347  1.1502881 ]\n",
      " [-1.32710166 -0.17038923]\n",
      " [-2.38450083 -0.37458261]\n",
      " [-2.9369401  -0.26386183]\n",
      " [-2.14681113 -0.36825495]\n",
      " [-2.36986949  0.45963481]\n",
      " [-3.06384157 -0.35341284]\n",
      " [-3.91575378 -0.15458252]\n",
      " [-3.93646339 -0.65968723]\n",
      " [-3.09427612 -0.34884276]\n",
      " [-2.37447163 -0.29198035]\n",
      " [-2.77881295 -0.28680487]\n",
      " [-2.28656128 -0.37250784]\n",
      " [-2.98563349 -0.48921791]\n",
      " [-2.3751947  -0.48233372]\n",
      " [-2.20986553 -1.1600525 ]\n",
      " [-2.625621   -0.56316076]\n",
      " [-4.28063878 -0.64967096]\n",
      " [-3.58264137 -1.27270275]\n",
      " [-2.80706372 -1.57053379]\n",
      " [-2.89965933 -2.04105701]\n",
      " [-2.32073698 -2.35636608]\n",
      " [-2.54983095 -2.04528309]\n",
      " [-1.81254128 -1.52764595]\n",
      " [-2.76014464 -2.13893235]\n",
      " [-2.7371505  -0.40988627]\n",
      " [-3.60486887 -1.80238422]\n",
      " [-2.889826   -1.92521861]\n",
      " [-3.39215608 -1.31187639]\n",
      " [-1.0481819  -3.51508969]\n",
      " [-1.60991228 -2.40663816]\n",
      " [-3.14313097 -0.73816104]\n",
      " [-2.2401569  -1.17546529]\n",
      " [-2.84767378 -0.55604397]\n",
      " [-2.59749706 -0.69796554]\n",
      " [-2.94929937 -1.55530896]\n",
      " [-3.53003227 -0.8825268 ]\n",
      " [-2.40611054 -2.59235618]\n",
      " [-2.92908473 -1.27444695]\n",
      " [-2.18141278 -2.07753731]\n",
      " [-2.38092779 -2.58866743]\n",
      " [-3.21161722  0.2512491 ]\n",
      " [-3.67791872 -0.84774784]\n",
      " [-2.4655558  -2.1937983 ]\n",
      " [-3.37052415 -2.21628914]\n",
      " [-2.60195585 -1.75722935]\n",
      " [-2.67783946 -2.76089913]\n",
      " [-2.38701709 -2.29734668]\n",
      " [-3.20875816 -2.76891957]]\n"
     ]
    }
   ],
   "source": [
    "print(x)\n"
   ]
  },
  {
   "cell_type": "code",
   "execution_count": 29,
   "metadata": {},
   "outputs": [],
   "source": [
    "from sklearn.model_selection import train_test_split\n",
    "x_tr,x_te,y_tr,y_te=train_test_split(x,y,test_size=0.2,random_state=0)"
   ]
  },
  {
   "cell_type": "code",
   "execution_count": 32,
   "metadata": {},
   "outputs": [
    {
     "data": {
      "text/plain": [
       "SVC(kernel='linear', random_state=0)"
      ]
     },
     "execution_count": 32,
     "metadata": {},
     "output_type": "execute_result"
    }
   ],
   "source": [
    "from sklearn.svm import SVC\n",
    "sc=SVC(kernel='linear',random_state=0)\n",
    "sc.fit(x_tr,y_tr)"
   ]
  },
  {
   "cell_type": "code",
   "execution_count": 33,
   "metadata": {},
   "outputs": [],
   "source": [
    "y_pred=sc.predict(x_te)"
   ]
  },
  {
   "cell_type": "code",
   "execution_count": 34,
   "metadata": {},
   "outputs": [
    {
     "name": "stdout",
     "output_type": "stream",
     "text": [
      "[1 3 2 1 2 1 1 3 2 2 3 3 1 2 3 2 1 1 2 1 2 1 1 2 2 2 2 2 2 3 1 1 2 1 1 1]\n"
     ]
    }
   ],
   "source": [
    "print(y_pred)"
   ]
  },
  {
   "cell_type": "code",
   "execution_count": 40,
   "metadata": {},
   "outputs": [
    {
     "name": "stdout",
     "output_type": "stream",
     "text": [
      "0.9722222222222222\n"
     ]
    },
    {
     "data": {
      "image/png": "[encoded data removed]",
      "text/plain": [
       "<Figure size 432x288 with 2 Axes>"
      ]
     },
     "metadata": {
      "needs_background": "light"
     },
     "output_type": "display_data"
    }
   ],
   "source": [
    "from sklearn.metrics import plot_confusion_matrix,accuracy_score\n",
    "plot_confusion_matrix(sc,x_te,y_te)\n",
    "print(accuracy_score(y_te,y_pred))"
   ]
  },
  {
   "cell_type": "code",
   "execution_count": 44,
   "metadata": {},
   "outputs": [
    {
     "name": "stderr",
     "output_type": "stream",
     "text": [
      "/home/red/my_project_dir/my_project_env/lib/python3.6/site-packages/mlxtend/plotting/decision_regions.py:249: MatplotlibDeprecationWarning: Passing unsupported keyword arguments to axis() will raise a TypeError in 3.3.\n",
      "  ax.axis(xmin=xx.min(), xmax=xx.max(), y_min=yy.min(), y_max=yy.max())\n"
     ]
    },
    {
     "data": {
      "text/plain": [
       "<matplotlib.axes._subplots.AxesSubplot at 0x7fc6c83a9b00>"
      ]
     },
     "execution_count": 44,
     "metadata": {},
     "output_type": "execute_result"
    },
    {
     "data": {
      "image/png": "[encoded data removed]",
      "text/plain": [
       "<Figure size 432x288 with 1 Axes>"
      ]
     },
     "metadata": {
      "needs_background": "light"
     },
     "output_type": "display_data"
    }
   ],
   "source": [
    "from mlxtend.plotting import plot_decision_regions\n",
    "plot_decision_regions(clf=sc,X=x_te,y=y_te)"
   ]
  },
  {
   "cell_type": "code",
   "execution_count": null,
   "metadata": {},
   "outputs": [],
   "source": []
  }
 ],
 "metadata": {
  "kernelspec": {
   "display_name": "Python 3",
   "language": "python",
   "name": "python3"
  },
  "language_info": {
   "codemirror_mode": {
    "name": "ipython",
    "version": 3
   },
   "file_extension": ".py",
   "mimetype": "text/x-python",
   "name": "python",
   "nbconvert_exporter": "python",
   "pygments_lexer": "ipython3",
   "version": "3.6.9"
  }
 },
 "nbformat": 4,
 "nbformat_minor": 4
}
